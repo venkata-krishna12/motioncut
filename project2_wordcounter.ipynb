{
  "nbformat": 4,
  "nbformat_minor": 0,
  "metadata": {
    "colab": {
      "provenance": []
    },
    "kernelspec": {
      "name": "python3",
      "display_name": "Python 3"
    },
    "language_info": {
      "name": "python"
    }
  },
  "cells": [
    {
      "cell_type": "code",
      "execution_count": 1,
      "metadata": {
        "colab": {
          "base_uri": "https://localhost:8080/"
        },
        "id": "PH3aAqpP1vod",
        "outputId": "cfb3ead3-f96a-40ea-8c36-5fc61ed52493"
      },
      "outputs": [
        {
          "output_type": "stream",
          "name": "stdout",
          "text": [
            "Welcome to the Word Counter Program!\n",
            "Please enter a sentence or paragraph (or type 'exit' to quit): hai how are you\n",
            "The number of words in the given text is: 4\n",
            "\n",
            "Please enter a sentence or paragraph (or type 'exit' to quit): hello\n",
            "The number of words in the given text is: 1\n",
            "\n",
            "Please enter a sentence or paragraph (or type 'exit' to quit): exit\n",
            "Thank you for using the Word Counter Program. Goodbye!\n"
          ]
        }
      ],
      "source": [
        "def count_words(text):\n",
        "    \"\"\"\n",
        "    Function to count the number of words in the given text.\n",
        "\n",
        "    Parameters:\n",
        "    text (str): The text to count words in.\n",
        "\n",
        "    Returns:\n",
        "    int: The number of words in the text.\n",
        "    \"\"\"\n",
        "    words = text.split()\n",
        "    return len(words)\n",
        "\n",
        "def main():\n",
        "    \"\"\"\n",
        "    Main function to execute the word counting program.\n",
        "    \"\"\"\n",
        "    print(\"Welcome to the Word Counter Program!\")\n",
        "\n",
        "    while True:\n",
        "        # Prompt the user to enter a sentence or paragraph\n",
        "        user_input = input(\"Please enter a sentence or paragraph (or type 'exit' to quit): \").strip()\n",
        "\n",
        "        # Check if the user wants to exit the program\n",
        "        if user_input.lower() == 'exit':\n",
        "            print(\"Thank you for using the Word Counter Program. Goodbye!\")\n",
        "            break\n",
        "\n",
        "        # Check for empty input\n",
        "        if not user_input:\n",
        "            print(\"Error: The input cannot be empty. Please try again.\")\n",
        "            continue\n",
        "\n",
        "        # Count the number of words in the input\n",
        "        word_count = count_words(user_input)\n",
        "\n",
        "        # Display the word count\n",
        "        print(f\"The number of words in the given text is: {word_count}\\n\")\n",
        "\n",
        "# Run the main function if this script is executed\n",
        "if __name__ == \"__main__\":\n",
        "    main()\n",
        "\n",
        "\n",
        "\n"
      ]
    }
  ]
}