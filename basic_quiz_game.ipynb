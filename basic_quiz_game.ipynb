{
  "nbformat": 4,
  "nbformat_minor": 0,
  "metadata": {
    "colab": {
      "provenance": []
    },
    "kernelspec": {
      "name": "python3",
      "display_name": "Python 3"
    },
    "language_info": {
      "name": "python"
    }
  },
  "cells": [
    {
      "cell_type": "code",
      "execution_count": 3,
      "metadata": {
        "colab": {
          "base_uri": "https://localhost:8080/"
        },
        "id": "lgrlFNUy0P0v",
        "outputId": "4e9b9f70-50b7-4c7a-8e43-193cf85499a8"
      },
      "outputs": [
        {
          "output_type": "stream",
          "name": "stdout",
          "text": [
            "Partcipate the quiz game!\n",
            "--------------\n",
            "1.  Which is the largest desert in the world?\n",
            "A. Sahara Desert\n",
            "B. Arabian Desert\n",
            "C. Gobi Desert\n",
            "D. Antarctic Desert\n",
            "Enter your answer (A/B/C/D): a\n",
            "Incorrect\n",
            "The correct answer is: D\n",
            "Your score is: 0/1\n",
            "--------------\n",
            "2.  Who was the first President of the United States?\n",
            "A. George Washington\n",
            "B. Thomas Jefferson\n",
            "C. Abraham Lincoln\n",
            "D. John Adams\n",
            "Enter your answer (A/B/C/D): a\n",
            "Enter your answer (A/B/C/D): a\n",
            "Correct\n",
            "Your score is: 1/2\n",
            "--------------\n",
            "3.  What does the acronym HTTP stand for?\n",
            "A. HyperText Transfer Protocol\n",
            "B. High Transfer Text Protocol\n",
            "C. HyperTransfer Text Process\n",
            "D. HighText Transfer Process\n",
            "Correct\n",
            "Your score is: 2/3\n",
            "--------------\n",
            "4.  Who is also known as the father of Indian supercomputing?\n",
            "A. RAGUNATH\n",
            "B. NANDAN\n",
            "C. JAYANT NARLIKAR\n",
            "D. VIJAY BHATKAR\n",
            "Enter your answer (A/B/C/D): a\n",
            "Incorrect\n",
            "The correct answer is: D\n",
            "Your score is: 2/4\n",
            "--------------\n",
            "5.  What is the chemical symbol for gold?\n",
            "A. Ag\n",
            "B. Au\n",
            "C. Gd\n",
            "D. Go\n",
            "Enter your answer (A/B/C/D): a\n",
            "Incorrect\n",
            "The correct answer is: B\n",
            "Your score is: 2/5\n",
            "Final score is 2\n",
            "Score is 40.0%\n"
          ]
        }
      ],
      "source": [
        "print(\"Partcipate the quiz game!\")\n",
        "\n",
        "question_bank = [\n",
        "    \"1.  Which is the largest desert in the world?\",\n",
        "    \"2.  Who was the first President of the United States?\",\n",
        "    \"3.  What does the acronym HTTP stand for?\",\n",
        "    \"4.  Who is also known as the father of Indian supercomputing?\",\n",
        "    \"5.  What is the chemical symbol for gold?\"\n",
        "]\n",
        "answers = [\"D\", \"A\", \"A\", \"D\", \"B\"]\n",
        "options = [\n",
        "    [\"A. Sahara Desert\", \"B. Arabian Desert\", \"C. Gobi Desert\", \"D. Antarctic Desert\"],\n",
        "    [\"A. George Washington\", \"B. Thomas Jefferson\", \"C. Abraham Lincoln\", \"D. John Adams\"],\n",
        "    [\"A. HyperText Transfer Protocol\", \"B. High Transfer Text Protocol\", \"C. HyperTransfer Text Process\", \"D. HighText Transfer Process\"],\n",
        "    [\"A. RAGUNATH\", \"B. NANDAN\", \"C. JAYANT NARLIKAR\", \"D. VIJAY BHATKAR\"],\n",
        "    [\"A. Ag\", \"B. Au\", \"C. Gd\", \"D. Go\"]\n",
        "]\n",
        "\n",
        "score = 0\n",
        "question_num = 0\n",
        "\n",
        "for each_question in question_bank:\n",
        "    print(\"--------------\")\n",
        "    print(each_question)\n",
        "    for option in options[question_num]:\n",
        "        print(option)\n",
        "    guess = input(\"Enter your answer (A/B/C/D): \").upper()\n",
        "    if guess == answers[question_num]:\n",
        "        print(\"Correct\")\n",
        "        score += 1\n",
        "    else:\n",
        "        print(\"Incorrect\")\n",
        "        print(f\"The correct answer is: {answers[question_num]}\")\n",
        "    question_num += 1\n",
        "    print(f\"Your score is: {score}/{question_num}\")\n",
        "\n",
        "print(f\"Final score is {score}\")\n",
        "print(f\"Score is {(score / len(question_bank)) * 100}%\")"
      ]
    }
  ]
}